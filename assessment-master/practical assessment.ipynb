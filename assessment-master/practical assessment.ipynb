{
 "cells": [
  {
   "cell_type": "markdown",
   "id": "66e2133c-a2e9-4c22-9cdb-fb98af6f7007",
   "metadata": {},
   "source": [
    "# Practical Hands-On Assessment\n",
    "#### Gilang Amarullah"
   ]
  },
  {
   "cell_type": "code",
   "execution_count": 1,
   "id": "f211ba30-f76c-4dcb-8bcf-a221a62033f1",
   "metadata": {},
   "outputs": [],
   "source": [
    "import numpy as np\n",
    "import pandas as pd\n",
    "import matplotlib.pyplot as plt\n",
    "from sklearn.linear_model import LinearRegression\n",
    "from sklearn.model_selection import train_test_split\n",
    "from sklearn import metrics"
   ]
  },
  {
   "cell_type": "code",
   "execution_count": 2,
   "id": "f43f2926-26f1-4ad0-949c-ca0f7475e084",
   "metadata": {},
   "outputs": [],
   "source": [
    "# Dataset\n",
    "df_a = pd.read_csv(r'data_input\\analytics.csv', header=5, nrows = 11)\n",
    "df_b = pd.read_csv(r'data_input\\analytics.csv', header=17, index_col=0)"
   ]
  },
  {
   "cell_type": "code",
   "execution_count": 3,
   "id": "af49a393-8697-4111-bb3a-3ab33c911af5",
   "metadata": {},
   "outputs": [
    {
     "data": {
      "text/html": [
       "<div>\n",
       "<style scoped>\n",
       "    .dataframe tbody tr th:only-of-type {\n",
       "        vertical-align: middle;\n",
       "    }\n",
       "\n",
       "    .dataframe tbody tr th {\n",
       "        vertical-align: top;\n",
       "    }\n",
       "\n",
       "    .dataframe thead th {\n",
       "        text-align: right;\n",
       "    }\n",
       "</style>\n",
       "<table border=\"1\" class=\"dataframe\">\n",
       "  <thead>\n",
       "    <tr style=\"text-align: right;\">\n",
       "      <th></th>\n",
       "      <th>Language</th>\n",
       "      <th>Users</th>\n",
       "      <th>New Users</th>\n",
       "      <th>Sessions</th>\n",
       "      <th>Bounce Rate</th>\n",
       "      <th>Pages / Session</th>\n",
       "      <th>Avg. Session Duration</th>\n",
       "      <th>Goal Conversion Rate</th>\n",
       "      <th>Goal Completions</th>\n",
       "      <th>Goal Value</th>\n",
       "    </tr>\n",
       "  </thead>\n",
       "  <tbody>\n",
       "    <tr>\n",
       "      <th>0</th>\n",
       "      <td>en-us</td>\n",
       "      <td>23,497</td>\n",
       "      <td>22,696</td>\n",
       "      <td>35,113</td>\n",
       "      <td>0.54%</td>\n",
       "      <td>6.35</td>\n",
       "      <td>00:02:32</td>\n",
       "      <td>27.21%</td>\n",
       "      <td>9,555</td>\n",
       "      <td>$0.00</td>\n",
       "    </tr>\n",
       "    <tr>\n",
       "      <th>1</th>\n",
       "      <td>id-id</td>\n",
       "      <td>7,797</td>\n",
       "      <td>7,613</td>\n",
       "      <td>10,617</td>\n",
       "      <td>0.65%</td>\n",
       "      <td>4.89</td>\n",
       "      <td>00:01:38</td>\n",
       "      <td>16.26%</td>\n",
       "      <td>1,726</td>\n",
       "      <td>$0.00</td>\n",
       "    </tr>\n",
       "    <tr>\n",
       "      <th>2</th>\n",
       "      <td>en-gb</td>\n",
       "      <td>3,198</td>\n",
       "      <td>3,086</td>\n",
       "      <td>4,625</td>\n",
       "      <td>0.56%</td>\n",
       "      <td>5.52</td>\n",
       "      <td>00:01:50</td>\n",
       "      <td>21.36%</td>\n",
       "      <td>988</td>\n",
       "      <td>$0.00</td>\n",
       "    </tr>\n",
       "    <tr>\n",
       "      <th>3</th>\n",
       "      <td>id</td>\n",
       "      <td>2,171</td>\n",
       "      <td>2,094</td>\n",
       "      <td>2,724</td>\n",
       "      <td>0.29%</td>\n",
       "      <td>4.75</td>\n",
       "      <td>00:01:43</td>\n",
       "      <td>17.18%</td>\n",
       "      <td>468</td>\n",
       "      <td>$0.00</td>\n",
       "    </tr>\n",
       "    <tr>\n",
       "      <th>4</th>\n",
       "      <td>en</td>\n",
       "      <td>224</td>\n",
       "      <td>214</td>\n",
       "      <td>295</td>\n",
       "      <td>3.05%</td>\n",
       "      <td>5.03</td>\n",
       "      <td>00:01:44</td>\n",
       "      <td>26.78%</td>\n",
       "      <td>79</td>\n",
       "      <td>$0.00</td>\n",
       "    </tr>\n",
       "  </tbody>\n",
       "</table>\n",
       "</div>"
      ],
      "text/plain": [
       "  Language   Users New Users Sessions Bounce Rate  Pages / Session  \\\n",
       "0    en-us  23,497    22,696   35,113       0.54%             6.35   \n",
       "1    id-id   7,797     7,613   10,617       0.65%             4.89   \n",
       "2    en-gb   3,198     3,086    4,625       0.56%             5.52   \n",
       "3       id   2,171     2,094    2,724       0.29%             4.75   \n",
       "4       en     224       214      295       3.05%             5.03   \n",
       "\n",
       "  Avg. Session Duration Goal Conversion Rate Goal Completions Goal Value  \n",
       "0              00:02:32               27.21%            9,555      $0.00  \n",
       "1              00:01:38               16.26%            1,726      $0.00  \n",
       "2              00:01:50               21.36%              988      $0.00  \n",
       "3              00:01:43               17.18%              468      $0.00  \n",
       "4              00:01:44               26.78%               79      $0.00  "
      ]
     },
     "execution_count": 3,
     "metadata": {},
     "output_type": "execute_result"
    }
   ],
   "source": [
    "df_a.head()"
   ]
  },
  {
   "cell_type": "code",
   "execution_count": 4,
   "id": "866b1546-7c55-442a-ae88-131f608ee948",
   "metadata": {},
   "outputs": [
    {
     "data": {
      "text/html": [
       "<div>\n",
       "<style scoped>\n",
       "    .dataframe tbody tr th:only-of-type {\n",
       "        vertical-align: middle;\n",
       "    }\n",
       "\n",
       "    .dataframe tbody tr th {\n",
       "        vertical-align: top;\n",
       "    }\n",
       "\n",
       "    .dataframe thead th {\n",
       "        text-align: right;\n",
       "    }\n",
       "</style>\n",
       "<table border=\"1\" class=\"dataframe\">\n",
       "  <thead>\n",
       "    <tr style=\"text-align: right;\">\n",
       "      <th></th>\n",
       "      <th>Users</th>\n",
       "    </tr>\n",
       "    <tr>\n",
       "      <th>Day Index</th>\n",
       "      <th></th>\n",
       "    </tr>\n",
       "  </thead>\n",
       "  <tbody>\n",
       "    <tr>\n",
       "      <th>1/1/19</th>\n",
       "      <td>122</td>\n",
       "    </tr>\n",
       "    <tr>\n",
       "      <th>1/2/19</th>\n",
       "      <td>174</td>\n",
       "    </tr>\n",
       "    <tr>\n",
       "      <th>1/3/19</th>\n",
       "      <td>240</td>\n",
       "    </tr>\n",
       "    <tr>\n",
       "      <th>1/4/19</th>\n",
       "      <td>231</td>\n",
       "    </tr>\n",
       "    <tr>\n",
       "      <th>1/5/19</th>\n",
       "      <td>172</td>\n",
       "    </tr>\n",
       "  </tbody>\n",
       "</table>\n",
       "</div>"
      ],
      "text/plain": [
       "          Users\n",
       "Day Index      \n",
       "1/1/19      122\n",
       "1/2/19      174\n",
       "1/3/19      240\n",
       "1/4/19      231\n",
       "1/5/19      172"
      ]
     },
     "execution_count": 4,
     "metadata": {},
     "output_type": "execute_result"
    }
   ],
   "source": [
    "df_b.head()"
   ]
  },
  {
   "cell_type": "code",
   "execution_count": 5,
   "id": "15a3e7bc-166d-4e94-b4fb-2e67924c3840",
   "metadata": {},
   "outputs": [
    {
     "data": {
      "text/html": [
       "<div>\n",
       "<style scoped>\n",
       "    .dataframe tbody tr th:only-of-type {\n",
       "        vertical-align: middle;\n",
       "    }\n",
       "\n",
       "    .dataframe tbody tr th {\n",
       "        vertical-align: top;\n",
       "    }\n",
       "\n",
       "    .dataframe thead th {\n",
       "        text-align: right;\n",
       "    }\n",
       "</style>\n",
       "<table border=\"1\" class=\"dataframe\">\n",
       "  <thead>\n",
       "    <tr style=\"text-align: right;\">\n",
       "      <th></th>\n",
       "      <th>Language</th>\n",
       "      <th>Users</th>\n",
       "      <th>New Users</th>\n",
       "      <th>Sessions</th>\n",
       "      <th>Bounce Rate</th>\n",
       "      <th>Pages / Session</th>\n",
       "      <th>Avg. Session Duration</th>\n",
       "      <th>Goal Conversion Rate</th>\n",
       "      <th>Goal Completions</th>\n",
       "      <th>Goal Value</th>\n",
       "    </tr>\n",
       "  </thead>\n",
       "  <tbody>\n",
       "    <tr>\n",
       "      <th>0</th>\n",
       "      <td>en</td>\n",
       "      <td>23,497</td>\n",
       "      <td>22,696</td>\n",
       "      <td>35,113</td>\n",
       "      <td>0.54%</td>\n",
       "      <td>6.35</td>\n",
       "      <td>00:02:32</td>\n",
       "      <td>27.21%</td>\n",
       "      <td>9,555</td>\n",
       "      <td>$0.00</td>\n",
       "    </tr>\n",
       "    <tr>\n",
       "      <th>1</th>\n",
       "      <td>id</td>\n",
       "      <td>7,797</td>\n",
       "      <td>7,613</td>\n",
       "      <td>10,617</td>\n",
       "      <td>0.65%</td>\n",
       "      <td>4.89</td>\n",
       "      <td>00:01:38</td>\n",
       "      <td>16.26%</td>\n",
       "      <td>1,726</td>\n",
       "      <td>$0.00</td>\n",
       "    </tr>\n",
       "    <tr>\n",
       "      <th>2</th>\n",
       "      <td>en</td>\n",
       "      <td>3,198</td>\n",
       "      <td>3,086</td>\n",
       "      <td>4,625</td>\n",
       "      <td>0.56%</td>\n",
       "      <td>5.52</td>\n",
       "      <td>00:01:50</td>\n",
       "      <td>21.36%</td>\n",
       "      <td>988</td>\n",
       "      <td>$0.00</td>\n",
       "    </tr>\n",
       "    <tr>\n",
       "      <th>3</th>\n",
       "      <td>id</td>\n",
       "      <td>2,171</td>\n",
       "      <td>2,094</td>\n",
       "      <td>2,724</td>\n",
       "      <td>0.29%</td>\n",
       "      <td>4.75</td>\n",
       "      <td>00:01:43</td>\n",
       "      <td>17.18%</td>\n",
       "      <td>468</td>\n",
       "      <td>$0.00</td>\n",
       "    </tr>\n",
       "    <tr>\n",
       "      <th>4</th>\n",
       "      <td>en</td>\n",
       "      <td>224</td>\n",
       "      <td>214</td>\n",
       "      <td>295</td>\n",
       "      <td>3.05%</td>\n",
       "      <td>5.03</td>\n",
       "      <td>00:01:44</td>\n",
       "      <td>26.78%</td>\n",
       "      <td>79</td>\n",
       "      <td>$0.00</td>\n",
       "    </tr>\n",
       "  </tbody>\n",
       "</table>\n",
       "</div>"
      ],
      "text/plain": [
       "  Language   Users New Users Sessions Bounce Rate  Pages / Session  \\\n",
       "0       en  23,497    22,696   35,113       0.54%             6.35   \n",
       "1       id   7,797     7,613   10,617       0.65%             4.89   \n",
       "2       en   3,198     3,086    4,625       0.56%             5.52   \n",
       "3       id   2,171     2,094    2,724       0.29%             4.75   \n",
       "4       en     224       214      295       3.05%             5.03   \n",
       "\n",
       "  Avg. Session Duration Goal Conversion Rate Goal Completions Goal Value  \n",
       "0              00:02:32               27.21%            9,555      $0.00  \n",
       "1              00:01:38               16.26%            1,726      $0.00  \n",
       "2              00:01:50               21.36%              988      $0.00  \n",
       "3              00:01:43               17.18%              468      $0.00  \n",
       "4              00:01:44               26.78%               79      $0.00  "
      ]
     },
     "execution_count": 5,
     "metadata": {},
     "output_type": "execute_result"
    }
   ],
   "source": [
    "# Converting Language\n",
    "\n",
    "language = []\n",
    "\n",
    "for x in df_a.Language:\n",
    "    if pd.notna(x) == True:\n",
    "        if len(str(x)) > 2:\n",
    "            language.append(str(x)[0:2])\n",
    "        else:\n",
    "            language.append(str(x))\n",
    "    else:\n",
    "        language.append('missing')\n",
    "\n",
    "df_a['Language'] = language\n",
    "df_a.head()"
   ]
  },
  {
   "cell_type": "markdown",
   "id": "c48fe3d1-c993-4bba-ae22-d3c16c35c1b6",
   "metadata": {},
   "source": [
    "## Questions"
   ]
  },
  {
   "cell_type": "markdown",
   "id": "110c1c43-0ee9-4b6c-b23a-1cbf074402d5",
   "metadata": {},
   "source": [
    "#### Question 7\n",
    "Download analytics.csv, which is export as-is from the company's Google Analytics dashboard. Values in the Language column is formatted to capture both the client (browser) language and keyboard language, but for this exercise we're only interested about the former. A value of en-id should hence be stored as en, and a value of id-jp should similarly be id. Fill missing values with missing. This should result in en, id, th and missing as valid values in the Language column. Which language has on average, the highest Pages / Session count?\n",
    "\n",
    "##### answer: en"
   ]
  },
  {
   "cell_type": "code",
   "execution_count": 6,
   "id": "c37d5b66-37f9-4b2f-8257-e3890f45be3f",
   "metadata": {},
   "outputs": [
    {
     "data": {
      "text/plain": [
       "Language\n",
       "en         5.961667\n",
       "missing    5.860000\n",
       "id         4.426667\n",
       "th         3.500000\n",
       "Name: Pages / Session, dtype: float64"
      ]
     },
     "execution_count": 6,
     "metadata": {},
     "output_type": "execute_result"
    }
   ],
   "source": [
    "# Finding the highest of average Pages/Sessions per Language\n",
    "df_a.groupby('Language')['Pages / Session'].mean().sort_values(ascending=False)"
   ]
  },
  {
   "cell_type": "markdown",
   "id": "7af72b8f-349f-49fe-a5cd-4c56f8a3edbf",
   "metadata": {},
   "source": [
    "#### Question 8\n",
    "Use any tools of your choice, run a closed-form, simple linear regression to predict Goal Conversion Rate (target) using the values of Pages / Session (predictor). Call this model_A. What is the multiple R-squared from your simple linear regression, model_A, rounded to 3 decimal points? You can retrieve this value through sklearn.metrics.r2_score or summary(model)$r.squared\n",
    "\n",
    "#### answer: 0.865"
   ]
  },
  {
   "cell_type": "code",
   "execution_count": 7,
   "id": "f106105a-ae22-4720-b370-f3963ad25c86",
   "metadata": {},
   "outputs": [],
   "source": [
    "# Converting Goal Conversion Rate to Float\n",
    "\n",
    "gcr = [] # GCR a.k.a Goal Conversion Rate\n",
    "\n",
    "for x in df_a['Goal Conversion Rate']:\n",
    "    x = float(str(x).replace('%',''))\n",
    "    gcr.append(x)"
   ]
  },
  {
   "cell_type": "code",
   "execution_count": 8,
   "id": "ca8ae298-df20-464d-b8bf-9d7fa7e69333",
   "metadata": {},
   "outputs": [],
   "source": [
    "y = np.array(gcr).reshape(-1,1)\n",
    "x1 = np.array(df_a['Pages / Session']).reshape(-1,1)"
   ]
  },
  {
   "cell_type": "code",
   "execution_count": 9,
   "id": "5bd2b66b-6fd4-4ebf-8347-65d6ad67a52c",
   "metadata": {},
   "outputs": [],
   "source": [
    "x1_train, x1_test, y_train, y_test = train_test_split(x1, y, test_size=0.25, random_state=42)"
   ]
  },
  {
   "cell_type": "code",
   "execution_count": 10,
   "id": "fd851e1b-ae5e-4609-a3e0-7325ad941971",
   "metadata": {},
   "outputs": [
    {
     "data": {
      "text/plain": [
       "LinearRegression()"
      ]
     },
     "execution_count": 10,
     "metadata": {},
     "output_type": "execute_result"
    }
   ],
   "source": [
    "model_A = LinearRegression()\n",
    "model_A.fit(x1_train, y_train)"
   ]
  },
  {
   "cell_type": "code",
   "execution_count": 11,
   "id": "964fc7c4-8e78-4f5d-99d7-2674623e9c80",
   "metadata": {},
   "outputs": [],
   "source": [
    "y_pred_1 = model_A.predict(x1_test)"
   ]
  },
  {
   "cell_type": "code",
   "execution_count": 12,
   "id": "acb04e7e-474f-4df8-aa40-a5bab402a8d0",
   "metadata": {},
   "outputs": [
    {
     "name": "stdout",
     "output_type": "stream",
     "text": [
      "r2: 0.865\n",
      "adjusted r2: 0.8407252260649404\n"
     ]
    }
   ],
   "source": [
    "# R-squared\n",
    "model_A_r2 = round(metrics.r2_score(y_test, y_pred_1), 3)\n",
    "print('r2:', model_A_r2)\n",
    "\n",
    "model_A_r2_adj = 1 - ( 1-model_A.score(x1, y) ) * ( len(y) - 1 ) / ( len(y) - x1.shape[1] - 1)\n",
    "print('adjusted r2:', model_A_r2_adj)"
   ]
  },
  {
   "cell_type": "markdown",
   "id": "087cf85d-7613-4908-9c39-cb359158755c",
   "metadata": {},
   "source": [
    "#### Question 9\n",
    "Let beta0 be the intercept and beta1 be your slope. What is the value of beta0?\n",
    "\n",
    "#### answer: -24.526\n",
    "_closest to -25.188_"
   ]
  },
  {
   "cell_type": "code",
   "execution_count": 13,
   "id": "fffab98a-b722-437c-902f-69b629287250",
   "metadata": {},
   "outputs": [
    {
     "name": "stdout",
     "output_type": "stream",
     "text": [
      "intercept:  -24.526\n"
     ]
    }
   ],
   "source": [
    "model_A_intercept = round(float(model_A.intercept_), 3)\n",
    "print('intercept: ', model_A_intercept)"
   ]
  },
  {
   "cell_type": "markdown",
   "id": "6d6ade01-8941-4ba8-8df8-31f2cfddd02e",
   "metadata": {},
   "source": [
    "#### Question 10\n",
    "Add Language as an additional predictor to the earlier linear regression model. Call this model_B. Did your multiple R-squared model improved as a result? Compare the adjusted R-squared of two models model_A and model_B.\n",
    "\n",
    "#### answer: model_A has a higher multiple R2 and adjusted R2 value"
   ]
  },
  {
   "cell_type": "code",
   "execution_count": 14,
   "id": "401a4dd9-61dc-4af7-8e7e-598577827e2a",
   "metadata": {},
   "outputs": [
    {
     "data": {
      "text/html": [
       "<div>\n",
       "<style scoped>\n",
       "    .dataframe tbody tr th:only-of-type {\n",
       "        vertical-align: middle;\n",
       "    }\n",
       "\n",
       "    .dataframe tbody tr th {\n",
       "        vertical-align: top;\n",
       "    }\n",
       "\n",
       "    .dataframe thead th {\n",
       "        text-align: right;\n",
       "    }\n",
       "</style>\n",
       "<table border=\"1\" class=\"dataframe\">\n",
       "  <thead>\n",
       "    <tr style=\"text-align: right;\">\n",
       "      <th></th>\n",
       "      <th>Pages / Session</th>\n",
       "      <th>lang_en</th>\n",
       "      <th>lang_id</th>\n",
       "      <th>lang_missing</th>\n",
       "      <th>lang_th</th>\n",
       "    </tr>\n",
       "  </thead>\n",
       "  <tbody>\n",
       "    <tr>\n",
       "      <th>0</th>\n",
       "      <td>6.35</td>\n",
       "      <td>1</td>\n",
       "      <td>0</td>\n",
       "      <td>0</td>\n",
       "      <td>0</td>\n",
       "    </tr>\n",
       "    <tr>\n",
       "      <th>1</th>\n",
       "      <td>4.89</td>\n",
       "      <td>0</td>\n",
       "      <td>1</td>\n",
       "      <td>0</td>\n",
       "      <td>0</td>\n",
       "    </tr>\n",
       "    <tr>\n",
       "      <th>2</th>\n",
       "      <td>5.52</td>\n",
       "      <td>1</td>\n",
       "      <td>0</td>\n",
       "      <td>0</td>\n",
       "      <td>0</td>\n",
       "    </tr>\n",
       "    <tr>\n",
       "      <th>3</th>\n",
       "      <td>4.75</td>\n",
       "      <td>0</td>\n",
       "      <td>1</td>\n",
       "      <td>0</td>\n",
       "      <td>0</td>\n",
       "    </tr>\n",
       "    <tr>\n",
       "      <th>4</th>\n",
       "      <td>5.03</td>\n",
       "      <td>1</td>\n",
       "      <td>0</td>\n",
       "      <td>0</td>\n",
       "      <td>0</td>\n",
       "    </tr>\n",
       "  </tbody>\n",
       "</table>\n",
       "</div>"
      ],
      "text/plain": [
       "   Pages / Session  lang_en  lang_id  lang_missing  lang_th\n",
       "0             6.35        1        0             0        0\n",
       "1             4.89        0        1             0        0\n",
       "2             5.52        1        0             0        0\n",
       "3             4.75        0        1             0        0\n",
       "4             5.03        1        0             0        0"
      ]
     },
     "execution_count": 14,
     "metadata": {},
     "output_type": "execute_result"
    }
   ],
   "source": [
    "# splitting Language into separate boolean variable\n",
    "language_dummy = pd.get_dummies(df_a['Language'], prefix='lang')\n",
    "\n",
    "df = pd.concat([df_a['Pages / Session'], language_dummy], axis=1)\n",
    "df.head()"
   ]
  },
  {
   "cell_type": "code",
   "execution_count": 15,
   "id": "dc97c256-914c-4445-8752-74e5e0fcee2f",
   "metadata": {},
   "outputs": [],
   "source": [
    "x2 = np.array(df)"
   ]
  },
  {
   "cell_type": "code",
   "execution_count": 16,
   "id": "b39b4ea8-0a7b-4680-9085-1e70e2b01203",
   "metadata": {},
   "outputs": [],
   "source": [
    "x2_train, x2_test, y_train, y_test = train_test_split(x2, y, test_size=0.25, random_state=42)"
   ]
  },
  {
   "cell_type": "code",
   "execution_count": 17,
   "id": "1e3a151b-d386-49dc-84e9-4e3799ad2183",
   "metadata": {},
   "outputs": [
    {
     "data": {
      "text/plain": [
       "LinearRegression()"
      ]
     },
     "execution_count": 17,
     "metadata": {},
     "output_type": "execute_result"
    }
   ],
   "source": [
    "model_B = LinearRegression()\n",
    "model_B.fit(x2_train, y_train)"
   ]
  },
  {
   "cell_type": "code",
   "execution_count": 18,
   "id": "d349c9f1-f7e3-4444-bfae-d672d531cbe9",
   "metadata": {},
   "outputs": [],
   "source": [
    "y_pred_2 = model_B.predict(x2_test)"
   ]
  },
  {
   "cell_type": "code",
   "execution_count": 19,
   "id": "529d11ca-83bb-4536-b8a9-97562b77e52c",
   "metadata": {},
   "outputs": [
    {
     "name": "stdout",
     "output_type": "stream",
     "text": [
      "r2: 0.732\n",
      "adjusted r2: 0.6890157536947283\n"
     ]
    }
   ],
   "source": [
    "# R-squared\n",
    "model_B_r2 = round(metrics.r2_score(y_test, y_pred_2), 3)\n",
    "print('r2:', model_B_r2)\n",
    "\n",
    "model_B_r2_adj = 1 - ( 1-model_B.score(x2, y) ) * ( len(y) - 1 ) / ( len(y) - x2.shape[1] - 1)\n",
    "print('adjusted r2:', model_B_r2_adj)"
   ]
  },
  {
   "cell_type": "code",
   "execution_count": 20,
   "id": "cc3ddb19-fb6a-4d11-a297-28c3af391c8d",
   "metadata": {},
   "outputs": [
    {
     "name": "stdout",
     "output_type": "stream",
     "text": [
      "r2\n",
      "Model A: 0.865\n",
      "Model B: 0.732\n",
      "=========================\n",
      "Adjusted r2\n",
      "Model A: 0.8407252260649404\n",
      "Model B: 0.6890157536947283\n"
     ]
    }
   ],
   "source": [
    "# Comparing r2 and adjusted r2 of the two models\n",
    "\n",
    "print('r2')\n",
    "print('Model A:', model_A_r2)\n",
    "print('Model B:', model_B_r2)\n",
    "\n",
    "print('=========================')\n",
    "\n",
    "print('Adjusted r2')\n",
    "print('Model A:', model_A_r2_adj)\n",
    "print('Model B:', model_B_r2_adj)"
   ]
  }
 ],
 "metadata": {
  "kernelspec": {
   "display_name": "Python 3 (ipykernel)",
   "language": "python",
   "name": "python3"
  },
  "language_info": {
   "codemirror_mode": {
    "name": "ipython",
    "version": 3
   },
   "file_extension": ".py",
   "mimetype": "text/x-python",
   "name": "python",
   "nbconvert_exporter": "python",
   "pygments_lexer": "ipython3",
   "version": "3.9.7"
  }
 },
 "nbformat": 4,
 "nbformat_minor": 5
}
