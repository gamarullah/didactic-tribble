{
 "cells": [
  {
   "cell_type": "markdown",
   "id": "07471214-d89d-438b-b522-89071779f845",
   "metadata": {
    "tags": []
   },
   "source": [
    "# File Sorter\n",
    "\n",
    "sort file by their extension and then move them to their respective folders"
   ]
  },
  {
   "cell_type": "code",
   "execution_count": 1,
   "id": "6a95ccc3-44a2-4147-88dd-83877501c13c",
   "metadata": {},
   "outputs": [],
   "source": [
    "dir_loc = r'C:\\Users\\amaru\\Documents\\SCRIPT_TEST\\file_sorter'"
   ]
  },
  {
   "cell_type": "markdown",
   "id": "fc04f28f-49cc-4dfe-90a8-b62acb7c2c7c",
   "metadata": {
    "tags": []
   },
   "source": [
    "# Setup"
   ]
  },
  {
   "cell_type": "markdown",
   "id": "b35de578-75fd-4c66-a3ea-084d8f0bcb8c",
   "metadata": {
    "jp-MarkdownHeadingCollapsed": true,
    "tags": []
   },
   "source": [
    "## Libraries"
   ]
  },
  {
   "cell_type": "code",
   "execution_count": 2,
   "id": "bf84dd3e-9a67-4a23-92d2-ccdca02cc3d6",
   "metadata": {},
   "outputs": [],
   "source": [
    "import glob2 as glob2\n",
    "import pandas as pd\n",
    "import pathlib\n",
    "import shutil"
   ]
  },
  {
   "cell_type": "markdown",
   "id": "0f087484-11e8-4353-9369-d6d8aed23a23",
   "metadata": {
    "jp-MarkdownHeadingCollapsed": true,
    "tags": []
   },
   "source": [
    "## Extension Metadata"
   ]
  },
  {
   "cell_type": "code",
   "execution_count": 3,
   "id": "958be591-1d16-4e50-a28e-b3c53b79cff3",
   "metadata": {},
   "outputs": [
    {
     "data": {
      "text/html": [
       "<div>\n",
       "<style scoped>\n",
       "    .dataframe tbody tr th:only-of-type {\n",
       "        vertical-align: middle;\n",
       "    }\n",
       "\n",
       "    .dataframe tbody tr th {\n",
       "        vertical-align: top;\n",
       "    }\n",
       "\n",
       "    .dataframe thead th {\n",
       "        text-align: right;\n",
       "    }\n",
       "</style>\n",
       "<table border=\"1\" class=\"dataframe\">\n",
       "  <thead>\n",
       "    <tr style=\"text-align: right;\">\n",
       "      <th></th>\n",
       "      <th>extension</th>\n",
       "      <th>category</th>\n",
       "    </tr>\n",
       "  </thead>\n",
       "  <tbody>\n",
       "    <tr>\n",
       "      <th>0</th>\n",
       "      <td>aac</td>\n",
       "      <td>Audio</td>\n",
       "    </tr>\n",
       "    <tr>\n",
       "      <th>1</th>\n",
       "      <td>flac</td>\n",
       "      <td>Audio</td>\n",
       "    </tr>\n",
       "    <tr>\n",
       "      <th>2</th>\n",
       "      <td>m4a</td>\n",
       "      <td>Audio</td>\n",
       "    </tr>\n",
       "    <tr>\n",
       "      <th>3</th>\n",
       "      <td>mp3</td>\n",
       "      <td>Audio</td>\n",
       "    </tr>\n",
       "    <tr>\n",
       "      <th>4</th>\n",
       "      <td>ogg</td>\n",
       "      <td>Audio</td>\n",
       "    </tr>\n",
       "  </tbody>\n",
       "</table>\n",
       "</div>"
      ],
      "text/plain": [
       "  extension category\n",
       "0       aac    Audio\n",
       "1      flac    Audio\n",
       "2       m4a    Audio\n",
       "3       mp3    Audio\n",
       "4       ogg    Audio"
      ]
     },
     "execution_count": 3,
     "metadata": {},
     "output_type": "execute_result"
    }
   ],
   "source": [
    "metadata_path = r'C:\\Users\\amaru\\Documents\\Data Analyst\\didactic-tribble\\file_sorter\\file_sorter_metadata.csv' # separate file as metadata for flexible updating\n",
    "metadata_lib = pathlib.PureWindowsPath(metadata_path.strip()).as_posix()\n",
    "\n",
    "file_dict = pd.read_csv(metadata_lib, sep=';')\n",
    "file_dict.head()"
   ]
  },
  {
   "cell_type": "markdown",
   "id": "cdf685ea-2620-453c-ac01-cc0d82dc6f84",
   "metadata": {
    "jp-MarkdownHeadingCollapsed": true,
    "tags": []
   },
   "source": [
    "## Directory"
   ]
  },
  {
   "cell_type": "markdown",
   "id": "c7c1f6d6-97f3-4b83-b0db-7d52c37f2a6c",
   "metadata": {
    "jp-MarkdownHeadingCollapsed": true,
    "tags": []
   },
   "source": [
    "### Sub-folder"
   ]
  },
  {
   "cell_type": "code",
   "execution_count": 4,
   "id": "847fc0f7-dc40-4ab0-aebc-de28b7bc47bf",
   "metadata": {},
   "outputs": [
    {
     "data": {
      "text/plain": [
       "['C:\\\\Users\\\\amaru\\\\Documents\\\\SCRIPT_TEST\\\\file_sorter\\\\',\n",
       " 'C:\\\\Users\\\\amaru\\\\Documents\\\\SCRIPT_TEST\\\\file_sorter\\\\Audio\\\\',\n",
       " 'C:\\\\Users\\\\amaru\\\\Documents\\\\SCRIPT_TEST\\\\file_sorter\\\\Compressed\\\\',\n",
       " 'C:\\\\Users\\\\amaru\\\\Documents\\\\SCRIPT_TEST\\\\file_sorter\\\\Document\\\\',\n",
       " 'C:\\\\Users\\\\amaru\\\\Documents\\\\SCRIPT_TEST\\\\file_sorter\\\\Executable\\\\',\n",
       " 'C:\\\\Users\\\\amaru\\\\Documents\\\\SCRIPT_TEST\\\\file_sorter\\\\Others\\\\',\n",
       " 'C:\\\\Users\\\\amaru\\\\Documents\\\\SCRIPT_TEST\\\\file_sorter\\\\Picture\\\\',\n",
       " 'C:\\\\Users\\\\amaru\\\\Documents\\\\SCRIPT_TEST\\\\file_sorter\\\\Video\\\\']"
      ]
     },
     "execution_count": 4,
     "metadata": {},
     "output_type": "execute_result"
    }
   ],
   "source": [
    "folder_output = glob2.glob(dir_loc + '/**/', recursive=True)\n",
    "\n",
    "folder_output"
   ]
  },
  {
   "cell_type": "markdown",
   "id": "66bb4515-8245-4fbd-82a7-9c9e5bcbec26",
   "metadata": {
    "jp-MarkdownHeadingCollapsed": true,
    "tags": []
   },
   "source": [
    "# Processing"
   ]
  },
  {
   "cell_type": "code",
   "execution_count": 5,
   "id": "bcac8086-8fb3-4eaa-b728-35dfa089cd42",
   "metadata": {},
   "outputs": [
    {
     "name": "stdout",
     "output_type": "stream",
     "text": [
      "9 file(s)\n"
     ]
    },
    {
     "data": {
      "text/plain": [
       "['C:\\\\Users\\\\amaru\\\\Documents\\\\SCRIPT_TEST\\\\file_sorter\\\\1699248981616.png',\n",
       " 'C:\\\\Users\\\\amaru\\\\Documents\\\\SCRIPT_TEST\\\\file_sorter\\\\20240307_SURAT REFUND_SITI NURDIANA.docx',\n",
       " 'C:\\\\Users\\\\amaru\\\\Documents\\\\SCRIPT_TEST\\\\file_sorter\\\\BepInEx_x64_5.4.22.0.zip',\n",
       " 'C:\\\\Users\\\\amaru\\\\Documents\\\\SCRIPT_TEST\\\\file_sorter\\\\calibre-5.33.2.msi',\n",
       " 'C:\\\\Users\\\\amaru\\\\Documents\\\\SCRIPT_TEST\\\\file_sorter\\\\FORMAT SURAT REFUND NEW.pdf',\n",
       " 'C:\\\\Users\\\\amaru\\\\Documents\\\\SCRIPT_TEST\\\\file_sorter\\\\full-score-testcases.zip',\n",
       " 'C:\\\\Users\\\\amaru\\\\Documents\\\\SCRIPT_TEST\\\\file_sorter\\\\TeamViewer_Setup_x64.exe',\n",
       " 'C:\\\\Users\\\\amaru\\\\Documents\\\\SCRIPT_TEST\\\\file_sorter\\\\Untitled.ipynb',\n",
       " 'C:\\\\Users\\\\amaru\\\\Documents\\\\SCRIPT_TEST\\\\file_sorter\\\\videoplayback.mp4']"
      ]
     },
     "execution_count": 5,
     "metadata": {},
     "output_type": "execute_result"
    }
   ],
   "source": [
    "file_list = glob2.glob(dir_loc + '/*.*')\n",
    "print(len(file_list), 'file(s)')\n",
    "file_list"
   ]
  },
  {
   "cell_type": "code",
   "execution_count": 6,
   "id": "d76a3e31-764a-409f-a401-be280323ba26",
   "metadata": {},
   "outputs": [
    {
     "data": {
      "text/html": [
       "<div>\n",
       "<style scoped>\n",
       "    .dataframe tbody tr th:only-of-type {\n",
       "        vertical-align: middle;\n",
       "    }\n",
       "\n",
       "    .dataframe tbody tr th {\n",
       "        vertical-align: top;\n",
       "    }\n",
       "\n",
       "    .dataframe thead th {\n",
       "        text-align: right;\n",
       "    }\n",
       "</style>\n",
       "<table border=\"1\" class=\"dataframe\">\n",
       "  <thead>\n",
       "    <tr style=\"text-align: right;\">\n",
       "      <th></th>\n",
       "      <th>path</th>\n",
       "    </tr>\n",
       "  </thead>\n",
       "  <tbody>\n",
       "    <tr>\n",
       "      <th>0</th>\n",
       "      <td>C:\\Users\\amaru\\Documents\\SCRIPT_TEST\\file_sort...</td>\n",
       "    </tr>\n",
       "    <tr>\n",
       "      <th>1</th>\n",
       "      <td>C:\\Users\\amaru\\Documents\\SCRIPT_TEST\\file_sort...</td>\n",
       "    </tr>\n",
       "    <tr>\n",
       "      <th>2</th>\n",
       "      <td>C:\\Users\\amaru\\Documents\\SCRIPT_TEST\\file_sort...</td>\n",
       "    </tr>\n",
       "    <tr>\n",
       "      <th>3</th>\n",
       "      <td>C:\\Users\\amaru\\Documents\\SCRIPT_TEST\\file_sort...</td>\n",
       "    </tr>\n",
       "    <tr>\n",
       "      <th>4</th>\n",
       "      <td>C:\\Users\\amaru\\Documents\\SCRIPT_TEST\\file_sort...</td>\n",
       "    </tr>\n",
       "  </tbody>\n",
       "</table>\n",
       "</div>"
      ],
      "text/plain": [
       "                                                path\n",
       "0  C:\\Users\\amaru\\Documents\\SCRIPT_TEST\\file_sort...\n",
       "1  C:\\Users\\amaru\\Documents\\SCRIPT_TEST\\file_sort...\n",
       "2  C:\\Users\\amaru\\Documents\\SCRIPT_TEST\\file_sort...\n",
       "3  C:\\Users\\amaru\\Documents\\SCRIPT_TEST\\file_sort...\n",
       "4  C:\\Users\\amaru\\Documents\\SCRIPT_TEST\\file_sort..."
      ]
     },
     "execution_count": 6,
     "metadata": {},
     "output_type": "execute_result"
    }
   ],
   "source": [
    "df = pd.DataFrame(file_list)\n",
    "df.rename(columns={0:'path'}, inplace=True)\n",
    "\n",
    "df.head()"
   ]
  },
  {
   "cell_type": "code",
   "execution_count": 7,
   "id": "86dd5829-720e-42dd-be5a-a960980c9d22",
   "metadata": {},
   "outputs": [],
   "source": [
    "filenames = []\n",
    "for file in df['path']:\n",
    "    name = file[file.rfind('\\\\')+1:len(file)]\n",
    "    filenames.append(name)\\\n",
    "    \n",
    "df['file'] = filenames"
   ]
  },
  {
   "cell_type": "code",
   "execution_count": 8,
   "id": "05a2b066-ce96-4033-b872-75f32fb8d5c1",
   "metadata": {},
   "outputs": [],
   "source": [
    "extension = []\n",
    "for file in df['file']:\n",
    "    ext = file[file.rfind('.')+1:len(file)]\n",
    "    extension.append(ext)\n",
    "    \n",
    "df['extension'] = extension"
   ]
  },
  {
   "cell_type": "code",
   "execution_count": 9,
   "id": "29a39263-69ed-43cf-806b-1986dab7f936",
   "metadata": {},
   "outputs": [],
   "source": [
    "df = df.merge(file_dict, how='left', on='extension')"
   ]
  },
  {
   "cell_type": "code",
   "execution_count": 10,
   "id": "50bb7da9-f6f3-4862-8a1a-3690f76851a6",
   "metadata": {},
   "outputs": [],
   "source": [
    "new_path = []\n",
    "\n",
    "for file, cat in zip(df['file'],df['category']):\n",
    "    if pd.isna(cat) == True:\n",
    "        destination = folder_output[0] + '\\\\' + 'Others' + '\\\\'\n",
    "    else:\n",
    "        destination = folder_output[0] + '\\\\' + cat + '\\\\'\n",
    "        \n",
    "    new_path.append(destination)\n",
    "    \n",
    "df['new_path'] = new_path"
   ]
  },
  {
   "cell_type": "code",
   "execution_count": 11,
   "id": "d5a4b13a-5d71-4c7f-9232-74f0f10457e6",
   "metadata": {},
   "outputs": [
    {
     "data": {
      "text/html": [
       "<div>\n",
       "<style scoped>\n",
       "    .dataframe tbody tr th:only-of-type {\n",
       "        vertical-align: middle;\n",
       "    }\n",
       "\n",
       "    .dataframe tbody tr th {\n",
       "        vertical-align: top;\n",
       "    }\n",
       "\n",
       "    .dataframe thead th {\n",
       "        text-align: right;\n",
       "    }\n",
       "</style>\n",
       "<table border=\"1\" class=\"dataframe\">\n",
       "  <thead>\n",
       "    <tr style=\"text-align: right;\">\n",
       "      <th></th>\n",
       "      <th>path</th>\n",
       "      <th>file</th>\n",
       "      <th>extension</th>\n",
       "      <th>category</th>\n",
       "      <th>new_path</th>\n",
       "    </tr>\n",
       "  </thead>\n",
       "  <tbody>\n",
       "    <tr>\n",
       "      <th>0</th>\n",
       "      <td>C:\\Users\\amaru\\Documents\\SCRIPT_TEST\\file_sort...</td>\n",
       "      <td>1699248981616.png</td>\n",
       "      <td>png</td>\n",
       "      <td>Picture</td>\n",
       "      <td>C:\\Users\\amaru\\Documents\\SCRIPT_TEST\\file_sort...</td>\n",
       "    </tr>\n",
       "    <tr>\n",
       "      <th>1</th>\n",
       "      <td>C:\\Users\\amaru\\Documents\\SCRIPT_TEST\\file_sort...</td>\n",
       "      <td>20240307_SURAT REFUND_SITI NURDIANA.docx</td>\n",
       "      <td>docx</td>\n",
       "      <td>Document</td>\n",
       "      <td>C:\\Users\\amaru\\Documents\\SCRIPT_TEST\\file_sort...</td>\n",
       "    </tr>\n",
       "    <tr>\n",
       "      <th>2</th>\n",
       "      <td>C:\\Users\\amaru\\Documents\\SCRIPT_TEST\\file_sort...</td>\n",
       "      <td>BepInEx_x64_5.4.22.0.zip</td>\n",
       "      <td>zip</td>\n",
       "      <td>Compressed</td>\n",
       "      <td>C:\\Users\\amaru\\Documents\\SCRIPT_TEST\\file_sort...</td>\n",
       "    </tr>\n",
       "    <tr>\n",
       "      <th>3</th>\n",
       "      <td>C:\\Users\\amaru\\Documents\\SCRIPT_TEST\\file_sort...</td>\n",
       "      <td>calibre-5.33.2.msi</td>\n",
       "      <td>msi</td>\n",
       "      <td>Executable</td>\n",
       "      <td>C:\\Users\\amaru\\Documents\\SCRIPT_TEST\\file_sort...</td>\n",
       "    </tr>\n",
       "    <tr>\n",
       "      <th>4</th>\n",
       "      <td>C:\\Users\\amaru\\Documents\\SCRIPT_TEST\\file_sort...</td>\n",
       "      <td>FORMAT SURAT REFUND NEW.pdf</td>\n",
       "      <td>pdf</td>\n",
       "      <td>Document</td>\n",
       "      <td>C:\\Users\\amaru\\Documents\\SCRIPT_TEST\\file_sort...</td>\n",
       "    </tr>\n",
       "  </tbody>\n",
       "</table>\n",
       "</div>"
      ],
      "text/plain": [
       "                                                path  \\\n",
       "0  C:\\Users\\amaru\\Documents\\SCRIPT_TEST\\file_sort...   \n",
       "1  C:\\Users\\amaru\\Documents\\SCRIPT_TEST\\file_sort...   \n",
       "2  C:\\Users\\amaru\\Documents\\SCRIPT_TEST\\file_sort...   \n",
       "3  C:\\Users\\amaru\\Documents\\SCRIPT_TEST\\file_sort...   \n",
       "4  C:\\Users\\amaru\\Documents\\SCRIPT_TEST\\file_sort...   \n",
       "\n",
       "                                       file extension    category  \\\n",
       "0                         1699248981616.png       png     Picture   \n",
       "1  20240307_SURAT REFUND_SITI NURDIANA.docx      docx    Document   \n",
       "2                  BepInEx_x64_5.4.22.0.zip       zip  Compressed   \n",
       "3                        calibre-5.33.2.msi       msi  Executable   \n",
       "4               FORMAT SURAT REFUND NEW.pdf       pdf    Document   \n",
       "\n",
       "                                            new_path  \n",
       "0  C:\\Users\\amaru\\Documents\\SCRIPT_TEST\\file_sort...  \n",
       "1  C:\\Users\\amaru\\Documents\\SCRIPT_TEST\\file_sort...  \n",
       "2  C:\\Users\\amaru\\Documents\\SCRIPT_TEST\\file_sort...  \n",
       "3  C:\\Users\\amaru\\Documents\\SCRIPT_TEST\\file_sort...  \n",
       "4  C:\\Users\\amaru\\Documents\\SCRIPT_TEST\\file_sort...  "
      ]
     },
     "execution_count": 11,
     "metadata": {},
     "output_type": "execute_result"
    }
   ],
   "source": [
    "df.head()"
   ]
  },
  {
   "cell_type": "markdown",
   "id": "9fa6e85f-21c7-4518-ae48-c09baf2cc52d",
   "metadata": {},
   "source": [
    "# File Moving"
   ]
  },
  {
   "cell_type": "code",
   "execution_count": 15,
   "id": "a713a728-6cad-45a0-8087-4a7aa79691b8",
   "metadata": {},
   "outputs": [],
   "source": [
    "for source, destination in zip(df['path'],df['new_path']):\n",
    "    shutil.move(source, destination)"
   ]
  },
  {
   "cell_type": "code",
   "execution_count": 16,
   "id": "4b2f8827-c353-4836-97fd-3c0cecad1241",
   "metadata": {},
   "outputs": [
    {
     "name": "stdout",
     "output_type": "stream",
     "text": [
      "All files are moved\n"
     ]
    }
   ],
   "source": [
    "summary_list = glob2.glob(dir_loc + '/*.*')\n",
    "\n",
    "if len(summary_list) > 0:\n",
    "    print(len(summary_list), 'file(s) not moved')\n",
    "    print(summary_list)\n",
    "else:\n",
    "    print('All files are moved')"
   ]
  },
  {
   "cell_type": "raw",
   "id": "46214369-60e8-4662-9f8d-a43701ff3c2f",
   "metadata": {},
   "source": [
    "# For reversing the moving process\n",
    "reverse_output = glob2.glob(dir_loc + '/**', recursive=True)\n",
    "\n",
    "for x in reverse_output:\n",
    "    try:\n",
    "        shutil.move(x, folder_output[0])\n",
    "    except:\n",
    "        pass"
   ]
  },
  {
   "cell_type": "code",
   "execution_count": null,
   "id": "32c7fe53-a126-4c5c-8e81-1eaa4b79a968",
   "metadata": {},
   "outputs": [],
   "source": []
  }
 ],
 "metadata": {
  "kernelspec": {
   "display_name": "Python 3 (ipykernel)",
   "language": "python",
   "name": "python3"
  },
  "language_info": {
   "codemirror_mode": {
    "name": "ipython",
    "version": 3
   },
   "file_extension": ".py",
   "mimetype": "text/x-python",
   "name": "python",
   "nbconvert_exporter": "python",
   "pygments_lexer": "ipython3",
   "version": "3.9.7"
  }
 },
 "nbformat": 4,
 "nbformat_minor": 5
}
