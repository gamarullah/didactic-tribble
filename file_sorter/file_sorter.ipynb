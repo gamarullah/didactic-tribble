{
 "cells": [
  {
   "cell_type": "markdown",
   "id": "07471214-d89d-438b-b522-89071779f845",
   "metadata": {
    "tags": []
   },
   "source": [
    "# File Sorter\n",
    "\n",
    "Is your 'Downloads' folder a mess? Do you want to tidy it up? Too lazy to do it? This script is for you then."
   ]
  },
  {
   "cell_type": "code",
   "execution_count": 1,
   "id": "6a95ccc3-44a2-4147-88dd-83877501c13c",
   "metadata": {},
   "outputs": [],
   "source": [
    "dir_loc = r'C:\\Users\\amaru\\Documents\\SCRIPT_TEST\\file_sorter' # put your 'Downloads' path here"
   ]
  },
  {
   "cell_type": "markdown",
   "id": "fc04f28f-49cc-4dfe-90a8-b62acb7c2c7c",
   "metadata": {
    "tags": []
   },
   "source": [
    "# Setup"
   ]
  },
  {
   "cell_type": "markdown",
   "id": "b35de578-75fd-4c66-a3ea-084d8f0bcb8c",
   "metadata": {
    "jp-MarkdownHeadingCollapsed": true,
    "tags": []
   },
   "source": [
    "## Libraries"
   ]
  },
  {
   "cell_type": "code",
   "execution_count": 2,
   "id": "bf84dd3e-9a67-4a23-92d2-ccdca02cc3d6",
   "metadata": {},
   "outputs": [],
   "source": [
    "import glob2 as glob2\n",
    "import pandas as pd\n",
    "import pathlib\n",
    "import shutil"
   ]
  },
  {
   "cell_type": "markdown",
   "id": "0f087484-11e8-4353-9369-d6d8aed23a23",
   "metadata": {
    "jp-MarkdownHeadingCollapsed": true,
    "tags": []
   },
   "source": [
    "## Extension Metadata\n",
    "for easier access: add, delete, etc\n",
    "I decide to create the metadata as CSV format; accessible from other apps such as your old pal notepad to your trusty Excel"
   ]
  },
  {
   "cell_type": "code",
   "execution_count": 3,
   "id": "958be591-1d16-4e50-a28e-b3c53b79cff3",
   "metadata": {},
   "outputs": [
    {
     "data": {
      "text/html": [
       "<div>\n",
       "<style scoped>\n",
       "    .dataframe tbody tr th:only-of-type {\n",
       "        vertical-align: middle;\n",
       "    }\n",
       "\n",
       "    .dataframe tbody tr th {\n",
       "        vertical-align: top;\n",
       "    }\n",
       "\n",
       "    .dataframe thead th {\n",
       "        text-align: right;\n",
       "    }\n",
       "</style>\n",
       "<table border=\"1\" class=\"dataframe\">\n",
       "  <thead>\n",
       "    <tr style=\"text-align: right;\">\n",
       "      <th></th>\n",
       "      <th>extension</th>\n",
       "      <th>category</th>\n",
       "    </tr>\n",
       "  </thead>\n",
       "  <tbody>\n",
       "    <tr>\n",
       "      <th>0</th>\n",
       "      <td>aac</td>\n",
       "      <td>Audio</td>\n",
       "    </tr>\n",
       "    <tr>\n",
       "      <th>1</th>\n",
       "      <td>flac</td>\n",
       "      <td>Audio</td>\n",
       "    </tr>\n",
       "    <tr>\n",
       "      <th>2</th>\n",
       "      <td>m4a</td>\n",
       "      <td>Audio</td>\n",
       "    </tr>\n",
       "    <tr>\n",
       "      <th>3</th>\n",
       "      <td>mp3</td>\n",
       "      <td>Audio</td>\n",
       "    </tr>\n",
       "    <tr>\n",
       "      <th>4</th>\n",
       "      <td>ogg</td>\n",
       "      <td>Audio</td>\n",
       "    </tr>\n",
       "  </tbody>\n",
       "</table>\n",
       "</div>"
      ],
      "text/plain": [
       "  extension category\n",
       "0       aac    Audio\n",
       "1      flac    Audio\n",
       "2       m4a    Audio\n",
       "3       mp3    Audio\n",
       "4       ogg    Audio"
      ]
     },
     "execution_count": 3,
     "metadata": {},
     "output_type": "execute_result"
    }
   ],
   "source": [
    "metadata_path = r'C:\\Users\\amaru\\Documents\\Data Analyst\\didactic-tribble\\file_sorter\\file_sorter_metadata.csv' # separate file as metadata for flexible updating\n",
    "metadata_lib = pathlib.PureWindowsPath(metadata_path.strip()).as_posix()\n",
    "\n",
    "file_dict = pd.read_csv(metadata_lib, sep=';')\n",
    "file_dict.head()"
   ]
  },
  {
   "cell_type": "markdown",
   "id": "cdf685ea-2620-453c-ac01-cc0d82dc6f84",
   "metadata": {
    "jp-MarkdownHeadingCollapsed": true,
    "tags": []
   },
   "source": [
    "## Directory"
   ]
  },
  {
   "cell_type": "markdown",
   "id": "c7c1f6d6-97f3-4b83-b0db-7d52c37f2a6c",
   "metadata": {
    "jp-MarkdownHeadingCollapsed": true,
    "tags": []
   },
   "source": [
    "### Sub-folder\n",
    "Path for each file extension category"
   ]
  },
  {
   "cell_type": "code",
   "execution_count": 4,
   "id": "847fc0f7-dc40-4ab0-aebc-de28b7bc47bf",
   "metadata": {},
   "outputs": [],
   "source": [
    "folder_output = glob2.glob(dir_loc + '/**/', recursive=True)"
   ]
  },
  {
   "cell_type": "markdown",
   "id": "66bb4515-8245-4fbd-82a7-9c9e5bcbec26",
   "metadata": {
    "jp-MarkdownHeadingCollapsed": true,
    "tags": []
   },
   "source": [
    "# Functions"
   ]
  },
  {
   "cell_type": "code",
   "execution_count": 5,
   "id": "febf9823-491c-4368-83dd-0a77747d2a62",
   "metadata": {},
   "outputs": [],
   "source": [
    "file_list = glob2.glob(dir_loc + '/*.*') # List all file(s) in the input directory"
   ]
  },
  {
   "cell_type": "code",
   "execution_count": 6,
   "id": "9863870b-f062-4c31-afdf-294c79836cfa",
   "metadata": {},
   "outputs": [],
   "source": [
    "def file_sorter():\n",
    "    df = pd.DataFrame(file_list) # convert the list to pandas df, to make extension matching to metadata easier\n",
    "    df.rename(columns={0:'path'}, inplace=True)\n",
    "    \n",
    "    # Extracting file names\n",
    "    filenames = []\n",
    "    for file in df['path']:\n",
    "        name = file[file.rfind('\\\\')+1:len(file)]\n",
    "        filenames.append(name)\n",
    "    df['file'] = filenames\n",
    "    \n",
    "    \n",
    "    # Extracting file extension\n",
    "    extension = []\n",
    "    for file in df['file']:\n",
    "        ext = file[file.rfind('.')+1:len(file)]\n",
    "        extension.append(ext)\n",
    "    df['extension'] = extension\n",
    "    \n",
    "    \n",
    "    # Matching with metada\n",
    "    df = df.merge(file_dict, how='left', on='extension')\n",
    "    \n",
    "    \n",
    "    # Generating new path for all file(s)\n",
    "    new_path = []\n",
    "\n",
    "    for file, cat in zip(df['file'],df['category']):\n",
    "        if pd.isna(cat) == True:\n",
    "            destination = folder_output[0] + '\\\\' + 'Others' + '\\\\' # All unmapped files in metadata will be moved to 'Others' folder\n",
    "        else:\n",
    "            destination = folder_output[0] + '\\\\' + cat + '\\\\'\n",
    "        new_path.append(destination)\n",
    "    df['new_path'] = new_path\n",
    "    \n",
    "    \n",
    "    # MOVING THE FILES\n",
    "    for source, destination in zip(df['path'],df['new_path']):\n",
    "        shutil.move(source, destination)\n",
    "    \n",
    "    summary_list = glob2.glob(dir_loc + '/*.*')\n",
    "\n",
    "    if len(summary_list) > 0:\n",
    "        print(len(summary_list), 'file(s) are not moved')\n",
    "        print(summary_list)\n",
    "    else:\n",
    "        print(len(df), 'file(s) are moved')"
   ]
  },
  {
   "cell_type": "markdown",
   "id": "c50f6c1e-74ad-4793-ad37-a02a6b8a473e",
   "metadata": {
    "tags": []
   },
   "source": [
    "# Processing"
   ]
  },
  {
   "cell_type": "code",
   "execution_count": 7,
   "id": "e08af92f-49d8-49b3-9412-c63d903f4a24",
   "metadata": {},
   "outputs": [
    {
     "name": "stdout",
     "output_type": "stream",
     "text": [
      "9 file(s) are moved\n"
     ]
    }
   ],
   "source": [
    "if len(file_list) == 0:\n",
    "    print('No files need to be moved')\n",
    "else:\n",
    "    file_sorter()"
   ]
  },
  {
   "cell_type": "markdown",
   "id": "9afb7540-ee35-4ed7-b0c1-155bb83fec2b",
   "metadata": {
    "tags": []
   },
   "source": [
    "# Reversal Script\n",
    "by default the following line is set as Raw"
   ]
  },
  {
   "cell_type": "raw",
   "id": "0bdca217-caeb-4b74-b1d6-092b45245c10",
   "metadata": {},
   "source": [
    "# For reversing the moving process, in case I need to see if this script worked\n",
    "reverse_output = glob2.glob(dir_loc + '/**', recursive=True)\n",
    "\n",
    "for x in reverse_output:\n",
    "    try:\n",
    "        shutil.move(x, folder_output[0])\n",
    "    except:\n",
    "        pass"
   ]
  },
  {
   "cell_type": "raw",
   "id": "280356c8-753a-4fcb-be7f-1c5bf137669f",
   "metadata": {},
   "source": []
  }
 ],
 "metadata": {
  "kernelspec": {
   "display_name": "Python 3 (ipykernel)",
   "language": "python",
   "name": "python3"
  },
  "language_info": {
   "codemirror_mode": {
    "name": "ipython",
    "version": 3
   },
   "file_extension": ".py",
   "mimetype": "text/x-python",
   "name": "python",
   "nbconvert_exporter": "python",
   "pygments_lexer": "ipython3",
   "version": "3.9.7"
  }
 },
 "nbformat": 4,
 "nbformat_minor": 5
}
